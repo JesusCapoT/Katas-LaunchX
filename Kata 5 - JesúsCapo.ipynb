{
 "cells": [
  {
   "cell_type": "markdown",
   "metadata": {},
   "source": [
    "Kata 5 - Jesús Caporal"
   ]
  },
  {
   "cell_type": "markdown",
   "metadata": {},
   "source": [
    "Ejercicio 1"
   ]
  },
  {
   "cell_type": "markdown",
   "metadata": {},
   "source": [
    "Crear un programa que pueda calcular la distancia entre dos planetas. Comenzaremos usando dos distancias de planetas: Tierra (149.597.870 km) y Júpiter (778.547.200 km)."
   ]
  },
  {
   "cell_type": "markdown",
   "metadata": {},
   "source": [
    "1.-Creamos variables"
   ]
  },
  {
   "cell_type": "code",
   "execution_count": 1,
   "metadata": {},
   "outputs": [],
   "source": [
    "Dtierra= 149597870\n",
    "Djupiter=778547200"
   ]
  },
  {
   "cell_type": "markdown",
   "metadata": {},
   "source": [
    "2.- Realizamos la operación"
   ]
  },
  {
   "cell_type": "code",
   "execution_count": 3,
   "metadata": {},
   "outputs": [
    {
     "name": "stdout",
     "output_type": "stream",
     "text": [
      "La distancia entre Jupiter y la Tierra es de 628949330 kilometros, o 390577534 millas\n"
     ]
    }
   ],
   "source": [
    "from math import ceil\n",
    "\n",
    "Distancia= Djupiter-Dtierra\n",
    "Millas=ceil(Distancia*0.621)\n",
    "print(f'La distancia entre Jupiter y la Tierra es de {Distancia} kilometros, o {Millas} millas')"
   ]
  },
  {
   "cell_type": "markdown",
   "metadata": {},
   "source": [
    "Ejercicio 2"
   ]
  },
  {
   "cell_type": "markdown",
   "metadata": {},
   "source": [
    "Para crear nuestra aplicación, queremos leer la distancia del sol para dos planetas, y luego mostrar la distancia entre los planetas. Haremos esto usando input para leer los valores, int para convertir a entero y luego abs para convertir el resultado en su valor absoluto."
   ]
  },
  {
   "cell_type": "markdown",
   "metadata": {},
   "source": [
    "1.- Pedimos las variables y a la vez los transformamos en enteros\n",
    "2.-Realizamos el calculo de la distancia y convertimos el valor en absoluto"
   ]
  },
  {
   "cell_type": "code",
   "execution_count": 6,
   "metadata": {},
   "outputs": [
    {
     "name": "stdout",
     "output_type": "stream",
     "text": [
      "La distancia entre el primer planeta y el segundo planeta es de 4437200000 kilometros, o 2755501200 Millas\n"
     ]
    }
   ],
   "source": [
    "\n",
    "from math import ceil\n",
    "pplaneta=int(input(\"Ingrese la distancia al sol del primer planeta\"))\n",
    "splaneta=int(input(\"Ingrese la distancia al sol del segundo planeta\"))\n",
    "Distancia=abs(pplaneta-splaneta)\n",
    "Millas=ceil(Distancia*0.621)\n",
    "\n",
    "print(f'La distancia entre el primer planeta y el segundo planeta es de {Distancia} kilometros, o {Millas} Millas')"
   ]
  }
 ],
 "metadata": {
  "interpreter": {
   "hash": "a9fe9334a759bce47910d2a3e8974cde5724bd31415d3a59e5ebfc0085b9b859"
  },
  "kernelspec": {
   "display_name": "Python 3.10.2 64-bit (system)",
   "language": "python",
   "name": "python3"
  },
  "language_info": {
   "codemirror_mode": {
    "name": "ipython",
    "version": 3
   },
   "file_extension": ".py",
   "mimetype": "text/x-python",
   "name": "python",
   "nbconvert_exporter": "python",
   "pygments_lexer": "ipython3",
   "version": "3.10.2"
  },
  "orig_nbformat": 4
 },
 "nbformat": 4,
 "nbformat_minor": 2
}
