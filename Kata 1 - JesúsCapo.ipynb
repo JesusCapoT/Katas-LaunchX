{
 "cells": [
  {
   "cell_type": "markdown",
   "metadata": {},
   "source": [
    "Fecha del día de hoy :3"
   ]
  },
  {
   "cell_type": "code",
   "execution_count": 1,
   "metadata": {},
   "outputs": [
    {
     "name": "stdout",
     "output_type": "stream",
     "text": [
      "La fecha de hoy es:  2022-02-09\n"
     ]
    }
   ],
   "source": [
    "from datetime import date # Importamos la biblioteca\n",
    "date.today()              # Fecha de hoy\n",
    "print(\"La fecha de hoy es: \", date.today())      "
   ]
  },
  {
   "cell_type": "markdown",
   "metadata": {},
   "source": [
    "Coversión de Parsec a Años luz"
   ]
  },
  {
   "cell_type": "code",
   "execution_count": 2,
   "metadata": {},
   "outputs": [
    {
     "name": "stdout",
     "output_type": "stream",
     "text": [
      "6.0 parsec, es igual a 19.56936 años luz\n"
     ]
    }
   ],
   "source": [
    "parsec = float(input(\"Cantidad de Parsec: \")) #Cantidad de Parsec a convertir y lo transformamos en flotante\n",
    "lightyears = 3.26156 *parsec \n",
    "print(str(parsec) + \" parsec, es igual a \" + str(lightyears) + \" años luz\")"
   ]
  }
 ],
 "metadata": {
  "interpreter": {
   "hash": "a9fe9334a759bce47910d2a3e8974cde5724bd31415d3a59e5ebfc0085b9b859"
  },
  "kernelspec": {
   "display_name": "Python 3.10.2 64-bit (system)",
   "language": "python",
   "name": "python3"
  },
  "language_info": {
   "codemirror_mode": {
    "name": "ipython",
    "version": 3
   },
   "file_extension": ".py",
   "mimetype": "text/x-python",
   "name": "python",
   "nbconvert_exporter": "python",
   "pygments_lexer": "ipython3",
   "version": "3.10.2"
  },
  "orig_nbformat": 4
 },
 "nbformat": 4,
 "nbformat_minor": 2
}
