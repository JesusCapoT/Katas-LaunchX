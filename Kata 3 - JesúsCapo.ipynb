{
 "cells": [
  {
   "cell_type": "markdown",
   "metadata": {},
   "source": [
    "Ejercicio 1\n",
    " \n",
    "\"Para este ejercicio, escribirás una lógica condicional que imprima una advertencia si un asteroide se acerca a la Tierra demasiado rápido. La velocidad del asteroide varía dependiendo de lo cerca que esté del sol, y cualquier velocidad superior a 25 kilómetros por segundo (km/s) merece una advertencia.\n",
    "\n",
    "Un asteroide se acerca, y viaja a una velocidad de 49 km/s.\""
   ]
  },
  {
   "cell_type": "code",
   "execution_count": 2,
   "metadata": {},
   "outputs": [
    {
     "name": "stdout",
     "output_type": "stream",
     "text": [
      "UN ASTEROIDE NOS VA A MATAR A TODOS, CORRAN!!\n"
     ]
    }
   ],
   "source": [
    "Advertencia = 25\n",
    "Asteroide = 49\n",
    "\n",
    "if Asteroide >=  Advertencia: #Si el asteroide sobrepasa el limite, emite alerta\n",
    "    print(\"UN ASTEROIDE NOS VA A MATAR A TODOS, CORRAN!!\")\n",
    "else:      #No pasa nada\n",
    "    print(\"Todo sereno :3\")"
   ]
  },
  {
   "cell_type": "markdown",
   "metadata": {},
   "source": [
    "Ejercicio 2\n",
    "\n",
    "\"Si un asteroide entra en la atmósfera de la Tierra a una velocidad mayor o igual a 20 km/s, a veces produce un rayo de luz que se puede ver desde la Tierra. Escribe la lógica condicional que usa declaraciones if, else, y elif para alertar a las personas de todo el mundo que deben buscar un asteroide en el cielo. ¡Hay uno que se dirige a la tierra ahora a una velocidad de 19 km/s!\""
   ]
  },
  {
   "cell_type": "code",
   "execution_count": 3,
   "metadata": {},
   "outputs": [
    {
     "name": "stdout",
     "output_type": "stream",
     "text": [
      "Todo sereno :3\n"
     ]
    }
   ],
   "source": [
    "Advertencia = 20\n",
    "Asteroide = 19\n",
    "\n",
    "if Asteroide >=  Advertencia: #Si el asteroide sobrepasa el limite, emite alerta\n",
    "    print(\"Hay un asteroide en el cielo!!\")\n",
    "else:      #No pasa nada\n",
    "    print(\"Todo sereno :3\")"
   ]
  },
  {
   "cell_type": "markdown",
   "metadata": {},
   "source": [
    "Ejercicio 3\n",
    "\n",
    "\"*Los asteroides de menos de 25 metros en su dimensión más grande probablemente se quemarán a medida que entren en la atmósfera de la Tierra.\n",
    "\n",
    "Si una pieza de un asteroide que es más grande que 25 metros pero más pequeña que 1000 metros golpeara la Tierra, causaría mucho daño.\n",
    "También discutimos en el ejercicio anterior que:\n",
    "\n",
    "La velocidad del asteroide varía en función de lo cerca que esté del sol, y cualquier velocidad superior a 25 kilómetros por segundo (km/s) merece una advertencia.\n",
    "Si un asteroide entra en la atmósfera de la Tierra a una velocidad mayor o igual a 20 km/s, a veces produce un rayo de luz que se puede ver desde la Tierra.\""
   ]
  },
  {
   "cell_type": "code",
   "execution_count": 1,
   "metadata": {},
   "outputs": [
    {
     "name": "stdout",
     "output_type": "stream",
     "text": [
      "Un asteroide pelidroso se dirige a la tierra, vean al cielo!!!\n"
     ]
    }
   ],
   "source": [
    "Tamaño = int(input(\"Ingrese el tamaño del asteroide: \")) \n",
    "Velocidad = int(input(\"Ingrese la velocidad del asteroide: \"))\n",
    "if Tamaño < 25 and Velocidad <25: #Asteroide menor a 25 metros y velocidad menor a 25 kmph\n",
    "    print(\"Todo sereno :3\")\n",
    "elif Tamaño >= 25 and Tamaño <= 1000: #Asteroide igual o mayor a 25 metros e igual o menor a 100 metros\n",
    "    if Velocidad <=25:\n",
    "        print(\"Un asteroide pelidroso se dirige a la tierra, no sabemos donde está, pero corran!!!!\")\n",
    "    else:\n",
    "        print(\"Un asteroide pelidroso se dirige a la tierra, vean al cielo!!!\")\n",
    "else:\n",
    "    print(\"Ya valimos todos :c\") #Dado a que el tamaño sobrepasa los 1000 metros"
   ]
  }
 ],
 "metadata": {
  "interpreter": {
   "hash": "a9fe9334a759bce47910d2a3e8974cde5724bd31415d3a59e5ebfc0085b9b859"
  },
  "kernelspec": {
   "display_name": "Python 3.10.2 64-bit (system)",
   "language": "python",
   "name": "python3"
  },
  "language_info": {
   "codemirror_mode": {
    "name": "ipython",
    "version": 3
   },
   "file_extension": ".py",
   "mimetype": "text/x-python",
   "name": "python",
   "nbconvert_exporter": "python",
   "pygments_lexer": "ipython3",
   "version": "3.10.2"
  },
  "orig_nbformat": 4
 },
 "nbformat": 4,
 "nbformat_minor": 2
}
